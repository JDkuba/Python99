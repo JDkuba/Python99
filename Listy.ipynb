{
 "cells": [
  {
   "cell_type": "code",
   "execution_count": 1,
   "metadata": {},
   "outputs": [
    {
     "name": "stdout",
     "output_type": "stream",
     "text": [
      "5\n"
     ]
    }
   ],
   "source": [
    "#1\n",
    "def last(l):\n",
    "    return l[-1]\n",
    "\n",
    "\n",
    "print(last([1, 2, 3, 5]))\n"
   ]
  },
  {
   "cell_type": "code",
   "execution_count": 2,
   "metadata": {},
   "outputs": [
    {
     "name": "stdout",
     "output_type": "stream",
     "text": [
      "2\n"
     ]
    }
   ],
   "source": [
    "#2\n",
    "def penultimate(l):\n",
    "    return l[-2]\n",
    "\n",
    "\n",
    "print(penultimate([1, 2, 3]))"
   ]
  },
  {
   "cell_type": "code",
   "execution_count": 3,
   "metadata": {},
   "outputs": [
    {
     "name": "stdout",
     "output_type": "stream",
     "text": [
      "1\n"
     ]
    }
   ],
   "source": [
    "#3\n",
    "def nth(n, l):\n",
    "    return l[n]\n",
    "\n",
    "\n",
    "print(nth(2, [2, 5, 1, 3, 4]))\n"
   ]
  },
  {
   "cell_type": "code",
   "execution_count": 4,
   "metadata": {},
   "outputs": [
    {
     "name": "stdout",
     "output_type": "stream",
     "text": [
      "3\n"
     ]
    }
   ],
   "source": [
    "#4\n",
    "print(len([1, 2, 3]))\n"
   ]
  },
  {
   "cell_type": "code",
   "execution_count": 5,
   "metadata": {},
   "outputs": [
    {
     "name": "stdout",
     "output_type": "stream",
     "text": [
      "[3, 2, 1]\n"
     ]
    }
   ],
   "source": [
    "#5\n",
    "print([1,2,3][::-1])"
   ]
  },
  {
   "cell_type": "code",
   "execution_count": 6,
   "metadata": {},
   "outputs": [
    {
     "name": "stdout",
     "output_type": "stream",
     "text": [
      "True\n",
      "True\n",
      "False\n",
      "False\n"
     ]
    }
   ],
   "source": [
    "#6\n",
    "def isPalindrome(l):\n",
    "    for i in range(len(l)):\n",
    "        if l[i]!=l[len(l)-i-1]:\n",
    "            return False\n",
    "    return True\n",
    "\n",
    "print(isPalindrome([2,3,4,3,2]))\n",
    "print(isPalindrome([1,2,2,1]))\n",
    "print(isPalindrome([1,2,3,1]))\n",
    "print(isPalindrome([1,2,3,4,1]))"
   ]
  },
  {
   "cell_type": "code",
   "execution_count": 7,
   "metadata": {},
   "outputs": [
    {
     "name": "stdout",
     "output_type": "stream",
     "text": [
      "[1, 2, 3, 1, 1, 2, 1, 2, 5]\n"
     ]
    }
   ],
   "source": [
    "#7\n",
    "def flatten(l):\n",
    "    return [item for sub in l for item in sub]\n",
    "\n",
    "print(flatten([[1,2,3],[1,1,2,1],[2,5]]))"
   ]
  },
  {
   "cell_type": "code",
   "execution_count": 8,
   "metadata": {},
   "outputs": [
    {
     "name": "stdout",
     "output_type": "stream",
     "text": [
      "['a', 'b', 'a', 'c', 'q', 'a']\n"
     ]
    }
   ],
   "source": [
    "#8\n",
    "def compress(l):\n",
    "    return [val for ind, val in enumerate(l) if ind==0 or val!=l[ind-1]]\n",
    "\n",
    "print(compress(['a', 'a', 'a', 'b', 'b', 'a', 'c', 'q', 'q', 'a']))"
   ]
  },
  {
   "cell_type": "code",
   "execution_count": 9,
   "metadata": {},
   "outputs": [
    {
     "name": "stdout",
     "output_type": "stream",
     "text": [
      "[['a', 'a', 'a'], ['b', 'b'], ['a'], ['c'], ['q', 'q'], ['a']]\n"
     ]
    }
   ],
   "source": [
    "#9\n",
    "def pack(l):\n",
    "    beg = -1\n",
    "    val = 0\n",
    "    ret= list()\n",
    "    for ind, val in enumerate(l):\n",
    "        if ind==len(l)-1 or val!=l[ind+1]:\n",
    "            ret.append([l[ind]]*(ind-beg))\n",
    "            beg = ind\n",
    "    return ret\n",
    "    \n",
    "print(pack(['a', 'a', 'a', 'b', 'b', 'a', 'c', 'q', 'q', 'a']))"
   ]
  },
  {
   "cell_type": "code",
   "execution_count": 10,
   "metadata": {},
   "outputs": [
    {
     "name": "stdout",
     "output_type": "stream",
     "text": [
      "[('a', 3), ('b', 2), ('a', 1), ('c', 1), ('q', 2), ('a', 1)]\n"
     ]
    }
   ],
   "source": [
    "#10\n",
    "def encode(l):\n",
    "    return list(map(lambda x: (x[0], len(x)), pack(l)))\n",
    "\n",
    "print(encode(['a', 'a', 'a', 'b', 'b', 'a', 'c', 'q', 'q', 'a']))"
   ]
  },
  {
   "cell_type": "code",
   "execution_count": 11,
   "metadata": {},
   "outputs": [
    {
     "name": "stdout",
     "output_type": "stream",
     "text": [
      "[('a', 3), ('b', 2), ('q', 2)]\n"
     ]
    }
   ],
   "source": [
    "#11\n",
    "def encodeModified(l):\n",
    "    return list(filter(lambda x: x[1]>1, encode(l)))\n",
    "\n",
    "print(encodeModified(['a', 'a', 'a', 'b', 'b', 'a', 'c', 'q', 'q', 'a']))"
   ]
  },
  {
   "cell_type": "code",
   "execution_count": 12,
   "metadata": {},
   "outputs": [
    {
     "name": "stdout",
     "output_type": "stream",
     "text": [
      "['a', 'a', 'a', 'b', 'b', 'a', 'c', 'q', 'q', 'a']\n"
     ]
    }
   ],
   "source": [
    "#12\n",
    "def decode(l):\n",
    "    return flatten([[item[0]]*item[1] for item in l])\n",
    "\n",
    "print(decode([('a', 3), ('b', 2), ('a', 1), ('c', 1), ('q', 2), ('a', 1)]))"
   ]
  },
  {
   "cell_type": "code",
   "execution_count": 13,
   "metadata": {},
   "outputs": [
    {
     "name": "stdout",
     "output_type": "stream",
     "text": [
      "[('a', 3), ('b', 2), ('a', 1), ('c', 1), ('q', 2), ('a', 1)]\n"
     ]
    }
   ],
   "source": [
    "#13\n",
    "def encodeDirect(l):\n",
    "    beg = -1\n",
    "    val = 0\n",
    "    ret= list()\n",
    "    for ind, val in enumerate(l):\n",
    "        if ind==len(l)-1 or val!=l[ind+1]:\n",
    "            ret.append((l[ind],ind-beg))\n",
    "            beg = ind\n",
    "    return ret\n",
    "\n",
    "print(encodeDirect(['a', 'a', 'a', 'b', 'b', 'a', 'c', 'q', 'q', 'a']))"
   ]
  },
  {
   "cell_type": "code",
   "execution_count": 14,
   "metadata": {},
   "outputs": [
    {
     "name": "stdout",
     "output_type": "stream",
     "text": [
      "[1, 1, 2, 2, 1, 1, 3, 3, 3, 3, 2, 2]\n"
     ]
    }
   ],
   "source": [
    "#14\n",
    "def duplicate(l):\n",
    "    return flatten([[v]*2 for v in l])\n",
    "\n",
    "print(duplicate([1,2,1,3,3,2]))"
   ]
  },
  {
   "cell_type": "code",
   "execution_count": 15,
   "metadata": {},
   "outputs": [
    {
     "name": "stdout",
     "output_type": "stream",
     "text": [
      "[1, 1, 1, 1, 2, 2, 2, 2, 1, 1, 1, 1, 3, 3, 3, 3, 3, 3, 3, 3, 2, 2, 2, 2]\n"
     ]
    }
   ],
   "source": [
    "#15\n",
    "def duplicateN(l, n):\n",
    "    return flatten([[v]*n for v in l])\n",
    "\n",
    "print(duplicateN([1,2,1,3,3,2],4))"
   ]
  },
  {
   "cell_type": "code",
   "execution_count": 16,
   "metadata": {},
   "outputs": [
    {
     "name": "stdout",
     "output_type": "stream",
     "text": [
      "[1, 2, 3, 3]\n"
     ]
    }
   ],
   "source": [
    "#16\n",
    "def drop(l, n):\n",
    "    del l[n-1::n]\n",
    "    return l\n",
    "\n",
    "print(drop([1,2,1,3,3,2],3))"
   ]
  },
  {
   "cell_type": "code",
   "execution_count": 17,
   "metadata": {},
   "outputs": [
    {
     "name": "stdout",
     "output_type": "stream",
     "text": [
      "[[2, 4, 1], [3, 2, 5, 2, 12, 1]]\n"
     ]
    }
   ],
   "source": [
    "#17\n",
    "def spl(l, n):\n",
    "    return [l[:n], l[n:]]\n",
    "\n",
    "print(spl([2,4,1,3,2,5,2,12,1],3))"
   ]
  },
  {
   "cell_type": "code",
   "execution_count": 18,
   "metadata": {},
   "outputs": [
    {
     "name": "stdout",
     "output_type": "stream",
     "text": [
      "[3, 2]\n"
     ]
    }
   ],
   "source": [
    "#18\n",
    "#17\n",
    "def slice(l, k, j):\n",
    "    return l[k:j]\n",
    "\n",
    "print(slice([2,4,1,3,2,5,2,12,1], 3, 5))"
   ]
  },
  {
   "cell_type": "code",
   "execution_count": 19,
   "metadata": {},
   "outputs": [
    {
     "name": "stdout",
     "output_type": "stream",
     "text": [
      "[3, 2, 5, 2, 12, 1, 2, 4, 1]\n"
     ]
    }
   ],
   "source": [
    "#19\n",
    "def rotate(l, n):\n",
    "    return l[n:] + l[:n]\n",
    "\n",
    "print(rotate([2,4,1,3,2,5,2,12,1], 3))"
   ]
  },
  {
   "cell_type": "code",
   "execution_count": 20,
   "metadata": {},
   "outputs": [
    {
     "name": "stdout",
     "output_type": "stream",
     "text": [
      "([2, 4, 1, 2, 5, 2, 12, 1], 3)\n"
     ]
    }
   ],
   "source": [
    "#20\n",
    "def removeAt(l, n):\n",
    "    t = l[n]\n",
    "    del l[n]\n",
    "    return (l, t)\n",
    "\n",
    "print(removeAt([2,4,1,3,2,5,2,12,1], 3))"
   ]
  },
  {
   "cell_type": "code",
   "execution_count": 21,
   "metadata": {},
   "outputs": [
    {
     "name": "stdout",
     "output_type": "stream",
     "text": [
      "[1, 2, 3, 'a', 4, 5]\n"
     ]
    }
   ],
   "source": [
    "#21\n",
    "def insertAt(l, n, el):\n",
    "    l.insert(n, el)\n",
    "    return l\n",
    "\n",
    "print(insertAt([1,2,3,4,5],3,'a'))"
   ]
  },
  {
   "cell_type": "code",
   "execution_count": 22,
   "metadata": {},
   "outputs": [
    {
     "name": "stdout",
     "output_type": "stream",
     "text": [
      "2 3 4 5 6 7 8 9 10 11 12 13 14 15 16 17 18 19 20 21\n"
     ]
    }
   ],
   "source": [
    "#22\n",
    "print(*range(2, 22))"
   ]
  },
  {
   "cell_type": "code",
   "execution_count": 23,
   "metadata": {},
   "outputs": [
    {
     "name": "stdout",
     "output_type": "stream",
     "text": [
      "[1, 2, 5]\n"
     ]
    }
   ],
   "source": [
    "#23\n",
    "import random\n",
    "def randomSel(l, n):\n",
    "    q=list()\n",
    "    for i in range(n):\n",
    "        q.append(l.pop(random.randint(0,len(l)-1)))\n",
    "    return q\n",
    "        \n",
    "print(randomSel([2,4,1,3,2,5,2,12,1], 3))"
   ]
  },
  {
   "cell_type": "code",
   "execution_count": 26,
   "metadata": {},
   "outputs": [
    {
     "name": "stdout",
     "output_type": "stream",
     "text": [
      "[38, 44, 13, 7, 29, 39]\n"
     ]
    }
   ],
   "source": [
    "#24\n",
    "def lotto(k, n):\n",
    "    return randomSel(list(range(1,n)), k)\n",
    "\n",
    "print(lotto(6,49))"
   ]
  },
  {
   "cell_type": "code",
   "execution_count": 27,
   "metadata": {},
   "outputs": [
    {
     "name": "stdout",
     "output_type": "stream",
     "text": [
      "[8, 3, 7, 51, 5, 1, 4, 2, 2]\n"
     ]
    }
   ],
   "source": [
    "#25\n",
    "def randomPermute(l):\n",
    "    return randomSel(l, len(l))\n",
    "\n",
    "print(randomPermute([1,4,2,51,2,3,5,7,8]))"
   ]
  },
  {
   "cell_type": "code",
   "execution_count": 74,
   "metadata": {},
   "outputs": [
    {
     "name": "stdout",
     "output_type": "stream",
     "text": [
      "[[2, 2, 3], [2, 2, 4], [2, 2, 5], [2, 2, 6], [2, 2, 7], [2, 2, 8], [2, 2, 9], [2, 3, 4], [2, 3, 5], [2, 3, 6], [2, 3, 7], [2, 3, 8], [2, 3, 9], [2, 4, 5], [2, 4, 6], [2, 4, 7], [2, 4, 8], [2, 4, 9], [2, 5, 6], [2, 5, 7], [2, 5, 8], [2, 5, 9], [2, 6, 7], [2, 6, 8], [2, 6, 9], [2, 7, 8], [2, 7, 9], [2, 8, 9], [2, 3, 4], [2, 3, 5], [2, 3, 6], [2, 3, 7], [2, 3, 8], [2, 3, 9], [2, 4, 5], [2, 4, 6], [2, 4, 7], [2, 4, 8], [2, 4, 9], [2, 5, 6], [2, 5, 7], [2, 5, 8], [2, 5, 9], [2, 6, 7], [2, 6, 8], [2, 6, 9], [2, 7, 8], [2, 7, 9], [2, 8, 9], [3, 4, 5], [3, 4, 6], [3, 4, 7], [3, 4, 8], [3, 4, 9], [3, 5, 6], [3, 5, 7], [3, 5, 8], [3, 5, 9], [3, 6, 7], [3, 6, 8], [3, 6, 9], [3, 7, 8], [3, 7, 9], [3, 8, 9], [4, 5, 6], [4, 5, 7], [4, 5, 8], [4, 5, 9], [4, 6, 7], [4, 6, 8], [4, 6, 9], [4, 7, 8], [4, 7, 9], [4, 8, 9], [5, 6, 7], [5, 6, 8], [5, 6, 9], [5, 7, 8], [5, 7, 9], [5, 8, 9], [6, 7, 8], [6, 7, 9], [6, 8, 9], [7, 8, 9]]\n"
     ]
    }
   ],
   "source": [
    "#26\n",
    "def combinations(l, k):\n",
    "    q = list()\n",
    "    ret = list()\n",
    "    def ftemp(lt, kt):\n",
    "        if(len(q)==k):\n",
    "            ret.append(q.copy())\n",
    "            return\n",
    "        for i in range(0, len(lt)):\n",
    "            q.append(lt[i])\n",
    "            ftemp(lt[i+1:], kt-1)\n",
    "            del q[-1]\n",
    "    ftemp(l,k)\n",
    "    return ret\n",
    "    \n",
    "print(combinations([2,2,3,4,5,6,7,8,9],3))      "
   ]
  },
  {
   "cell_type": "code",
   "execution_count": null,
   "metadata": {},
   "outputs": [],
   "source": [
    "#27  "
   ]
  }
 ],
 "metadata": {
  "kernelspec": {
   "display_name": "Python 3",
   "language": "python",
   "name": "python3"
  },
  "language_info": {
   "codemirror_mode": {
    "name": "ipython",
    "version": 3
   },
   "file_extension": ".py",
   "mimetype": "text/x-python",
   "name": "python",
   "nbconvert_exporter": "python",
   "pygments_lexer": "ipython3",
   "version": "3.6.6"
  }
 },
 "nbformat": 4,
 "nbformat_minor": 1
}
