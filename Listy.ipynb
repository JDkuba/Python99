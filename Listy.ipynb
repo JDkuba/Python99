{
 "cells": [
  {
   "cell_type": "code",
   "execution_count": 1,
   "metadata": {},
   "outputs": [
    {
     "name": "stdout",
     "output_type": "stream",
     "text": [
      "5\n"
     ]
    }
   ],
   "source": [
    "#1\n",
    "def last(l):\n",
    "    return l[-1]\n",
    "\n",
    "\n",
    "print(last([1, 2, 3, 5]))\n"
   ]
  },
  {
   "cell_type": "code",
   "execution_count": 2,
   "metadata": {},
   "outputs": [
    {
     "name": "stdout",
     "output_type": "stream",
     "text": [
      "2\n"
     ]
    }
   ],
   "source": [
    "#2\n",
    "def penultimate(l):\n",
    "    return l[-2]\n",
    "\n",
    "\n",
    "print(penultimate([1, 2, 3]))"
   ]
  },
  {
   "cell_type": "code",
   "execution_count": 3,
   "metadata": {},
   "outputs": [
    {
     "name": "stdout",
     "output_type": "stream",
     "text": [
      "1\n"
     ]
    }
   ],
   "source": [
    "#3\n",
    "def nth(n, l):\n",
    "    return l[n]\n",
    "\n",
    "\n",
    "print(nth(2, [2, 5, 1, 3, 4]))\n"
   ]
  },
  {
   "cell_type": "code",
   "execution_count": 4,
   "metadata": {},
   "outputs": [
    {
     "name": "stdout",
     "output_type": "stream",
     "text": [
      "3\n"
     ]
    }
   ],
   "source": [
    "#4\n",
    "print(len([1, 2, 3]))\n"
   ]
  },
  {
   "cell_type": "code",
   "execution_count": 5,
   "metadata": {},
   "outputs": [
    {
     "name": "stdout",
     "output_type": "stream",
     "text": [
      "[3, 2, 1]\n"
     ]
    }
   ],
   "source": [
    "#5\n",
    "print([1,2,3][::-1])"
   ]
  },
  {
   "cell_type": "code",
   "execution_count": 6,
   "metadata": {},
   "outputs": [
    {
     "name": "stdout",
     "output_type": "stream",
     "text": [
      "True\n",
      "True\n",
      "False\n",
      "False\n"
     ]
    }
   ],
   "source": [
    "#6\n",
    "def isPalindrome(l):\n",
    "    for i in range(len(l)):\n",
    "        if l[i]!=l[len(l)-i-1]:\n",
    "            return False\n",
    "    return True\n",
    "\n",
    "print(isPalindrome([2,3,4,3,2]))\n",
    "print(isPalindrome([1,2,2,1]))\n",
    "print(isPalindrome([1,2,3,1]))\n",
    "print(isPalindrome([1,2,3,4,1]))"
   ]
  },
  {
   "cell_type": "code",
   "execution_count": 7,
   "metadata": {},
   "outputs": [
    {
     "name": "stdout",
     "output_type": "stream",
     "text": [
      "[1, 2, 3, 1, 1, 2, 1, 2, 5]\n"
     ]
    }
   ],
   "source": [
    "#7\n",
    "def flatten(l):\n",
    "    return [item for sub in l for item in sub]\n",
    "\n",
    "print(flatten([[1,2,3],[1,1,2,1],[2,5]]))"
   ]
  },
  {
   "cell_type": "code",
   "execution_count": 9,
   "metadata": {},
   "outputs": [
    {
     "name": "stdout",
     "output_type": "stream",
     "text": [
      "['a', 'b', 'a', 'c', 'q', 'a']\n"
     ]
    }
   ],
   "source": [
    "#8\n",
    "def compress(l):\n",
    "    return [val for ind, val in enumerate(l) if ind==0 or val!=l[ind-1]]\n",
    "\n",
    "print(compress(['a', 'a', 'a', 'b', 'b', 'a', 'c', 'q', 'q', 'a']))"
   ]
  },
  {
   "cell_type": "code",
   "execution_count": 42,
   "metadata": {},
   "outputs": [
    {
     "name": "stdout",
     "output_type": "stream",
     "text": [
      "[['a', 'a', 'a'], ['b', 'b'], ['a'], ['c'], ['q', 'q'], ['a']]\n"
     ]
    }
   ],
   "source": [
    "#9\n",
    "def pack(l):\n",
    "    beg = -1\n",
    "    val = 0\n",
    "    ret= list()\n",
    "    for ind, val in enumerate(l):\n",
    "        if ind==len(l)-1 or val!=l[ind+1]:\n",
    "            ret.append([l[ind]]*(ind-beg))\n",
    "            beg = ind\n",
    "    return ret\n",
    "    \n",
    "print(pack(['a', 'a', 'a', 'b', 'b', 'a', 'c', 'q', 'q', 'a']))"
   ]
  },
  {
   "cell_type": "code",
   "execution_count": null,
   "metadata": {},
   "outputs": [],
   "source": []
  }
 ],
 "metadata": {
  "kernelspec": {
   "display_name": "Python 3",
   "language": "python",
   "name": "python3"
  },
  "language_info": {
   "codemirror_mode": {
    "name": "ipython",
    "version": 3
   },
   "file_extension": ".py",
   "mimetype": "text/x-python",
   "name": "python",
   "nbconvert_exporter": "python",
   "pygments_lexer": "ipython3",
   "version": "3.6.6"
  }
 },
 "nbformat": 4,
 "nbformat_minor": 1
}
